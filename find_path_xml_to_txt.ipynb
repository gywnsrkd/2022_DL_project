{
 "cells": [
  {
   "cell_type": "code",
   "execution_count": 1,
   "id": "1b086299",
   "metadata": {},
   "outputs": [],
   "source": [
    "import os\n",
    "import xml.etree.ElementTree as ET\n",
    "from pathlib import Path"
   ]
  },
  {
   "cell_type": "code",
   "execution_count": 2,
   "id": "87ee7bea",
   "metadata": {},
   "outputs": [],
   "source": [
    "path_dir = r\"/Users/hyojun/Desktop/도로주행영상/Training/bb/도심로\"\n",
    "\n",
    "file_list = os.listdir(path_dir)\n",
    "#xml_list = []\n",
    "#for file in file_list:\n",
    "#    if '.xml' in file:\n",
    "#        xml_list.append(targetDir + '/' + file)"
   ]
  },
  {
   "cell_type": "code",
   "execution_count": 3,
   "id": "84aeb7e5",
   "metadata": {},
   "outputs": [
    {
     "data": {
      "text/plain": [
       "['야간일몰', '주간일출']"
      ]
     },
     "execution_count": 3,
     "metadata": {},
     "output_type": "execute_result"
    }
   ],
   "source": [
    "file_list"
   ]
  },
  {
   "cell_type": "code",
   "execution_count": 4,
   "id": "fafed063",
   "metadata": {},
   "outputs": [
    {
     "name": "stdout",
     "output_type": "stream",
     "text": [
      "71030\n"
     ]
    }
   ],
   "source": [
    "xml_list = []\n",
    "label={'Vehicle_Car':0, 'Vehicle_Bus' : 1, 'Vehicle_Motorcycle' : 2, 'Vehicle_Unknown' : 3,'Pedestrian_Pedestrian' :4, 'Pedestrian_Bicycle' : 5,'Lane_White_Dash' : 6, 'Lane_White_Solid' : 7, 'Lane_Yellow_Dash' : 8, 'Lane_Yellow_Solid' : 9, 'Lane_Blue_Dash' : 10, 'Lane_Blue_Solid' : 11, 'TrafficLight_Red' : 12, 'TrafficLight_Yellow' : 13, 'TrafficLight_Green' : 14, 'TrafficLight_Arrow' : 15, 'TrafficLight_RedArrow' : 16, 'TrafficLight_YellowArrow' : 17, 'TrafficLight_GreenArrow' : 18, 'TrafficSign_Speed' : 19, 'TrafficSign_Else' : 20, 'RoadMark_StopLine' : 21, 'RoadMark_Crosswalk' : 22, 'RoadMark_Number' : 23, 'RoadMark_Character' : 24, 'RoadMarkArrow_Straight' : 25, 'RoadMarkArrow_Left' : 26, 'RoadMarkArrow_Right' : 27, 'RoadMarkArrow_StraightLeft' : 28, 'RoadMarkArrow_StraightRight' : 29, 'RoadMarkArrow_Uturn' : 30, 'RoadMarkArrow_Else' : 31}\n",
    "\n",
    "\n",
    "for i in file_list: #['야간일몰', '주간일출']\n",
    "    path_dir_2 = path_dir + '/' + i \n",
    "    file_list_2 = os.listdir(path_dir_2) \n",
    "    #print(path_dir_2)\n",
    "    #print(file_list_2)\n",
    "    #print(\"=\"*20)\n",
    "    \n",
    "    for j in file_list_2: #['맑음', '강우']\n",
    "        path_dir_3 = path_dir_2 + '/' + j \n",
    "        file_list_3 = os.listdir(path_dir_3) \n",
    "        #print(path_dir_3)\n",
    "        #print(file_list_3)\n",
    "        #print(\"=\"*20)\n",
    "        \n",
    "        for l in file_list_3: #['30,60,120, .. ', '전방, 후방, ....']\n",
    "            path_dir_4 = path_dir_3 + '/' + l \n",
    "            file_list_4 = os.listdir(path_dir_4) \n",
    "            #print(path_dir_4)\n",
    "            #print(file_list_4)\n",
    "            #print(\"=\"*20)\n",
    "            \n",
    "            for m in file_list_4: \n",
    "                path_dir_5 = path_dir_4 + '/' + m \n",
    "                file_list_5 = os.listdir(path_dir_5) \n",
    "                #print(path_dir_5)\n",
    "                #print(file_list_5)\n",
    "                #print(\"=\"*20)\n",
    "                \n",
    "                for n in file_list_5: \n",
    "                    path_dir_6 = path_dir_5 + '/' + n \n",
    "                    file_list_6 = os.listdir(path_dir_6) \n",
    "                    #print(path_dir_6)\n",
    "                    #print(file_list_6)\n",
    "                    #print(\"=\"*20)\n",
    "   \n",
    "                    for file in file_list_6:\n",
    "                        path_dir_7 = path_dir_6 + '/' + file \n",
    "                        #file_list_7 = os.listdir(path_dir_7) \n",
    "                \n",
    "                        if '.xml' in file:\n",
    "                            xml_list.append(path_dir_6 + '/' + file)\n",
    "                        #print(path_dir_7)\n",
    "\n",
    "print(len(xml_list))"
   ]
  },
  {
   "cell_type": "code",
   "execution_count": 5,
   "id": "7fa5ea15",
   "metadata": {},
   "outputs": [
    {
     "name": "stdout",
     "output_type": "stream",
     "text": [
      "[]\n"
     ]
    }
   ],
   "source": [
    "matching = [s for s in xml_list if 'txt' in s]\n",
    "print(matching)"
   ]
  },
  {
   "cell_type": "code",
   "execution_count": null,
   "id": "f445ff8d",
   "metadata": {},
   "outputs": [],
   "source": [
    "for i in matching:\n",
    "    os.remove(i)"
   ]
  },
  {
   "cell_type": "code",
   "execution_count": 6,
   "id": "ba561cee",
   "metadata": {},
   "outputs": [],
   "source": [
    "for o in xml_list:\n",
    "    new_file = o.replace('.xml', '')\n",
    "    f = open(new_file + '.txt', 'w')\n",
    "    tree=ET.parse(o)\n",
    "    root=tree.getroot()\n",
    "    obj = root.findall(\"object\")\n",
    "    size = root.findall('size')\n",
    "                            \n",
    "    for a in size:\n",
    "        w=a.findtext('width')\n",
    "        h=a.findtext('height')\n",
    "                                #print(w)\n",
    "                                \n",
    "        name =[x.findtext(\"name\") for x in obj]\n",
    "                            #print(name)\n",
    "                            \n",
    "        bndbox = obj[0].findall(\"bndbox\")\n",
    "                            \n",
    "        for b in range(len(obj)):\n",
    "            bndbox = obj[b].findall(\"bndbox\")\n",
    "            xmin = [x.findtext(\"xmin\") for x in bndbox]\n",
    "                                #print(xmin)\n",
    "            xmax = [x.findtext(\"xmax\") for x in bndbox]\n",
    "                                #print(xmax)\n",
    "            ymin = [y.findtext(\"ymin\") for y in bndbox]\n",
    "                                #print(ymin)\n",
    "            ymax = [y.findtext(\"ymax\") for y in bndbox]\n",
    "                                #print(ymax)\n",
    "            x_c,y_c,w1,h1 = (int(xmin[0])/int(w)+int(xmax[0])/int(w))/2,(int(ymin[0])/int(h)+int(ymax[0])/int(h))/2, (int(xmax[0])-int(xmin[0]))/int(w),(int(ymax[0])-int(ymin[0]))/int(h)\n",
    "            if name[b] in label.keys():\n",
    "                result = [str(label[name[b]]), str(x_c),str(y_c),str(w1),str(h1)]\n",
    "            else:\n",
    "                 break\n",
    "    \n",
    "            f.write(' '.join(result))\n",
    "            f.write('\\n')\n",
    "        f.close()\n",
    "        os.remove(o)"
   ]
  }
 ],
 "metadata": {
  "kernelspec": {
   "display_name": "Python 3 (ipykernel)",
   "language": "python",
   "name": "python3"
  },
  "language_info": {
   "codemirror_mode": {
    "name": "ipython",
    "version": 3
   },
   "file_extension": ".py",
   "mimetype": "text/x-python",
   "name": "python",
   "nbconvert_exporter": "python",
   "pygments_lexer": "ipython3",
   "version": "3.7.7"
  }
 },
 "nbformat": 4,
 "nbformat_minor": 5
}
