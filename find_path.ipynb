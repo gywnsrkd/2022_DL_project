{
 "cells": [
  {
   "cell_type": "code",
   "execution_count": 49,
   "id": "1b086299",
   "metadata": {},
   "outputs": [],
   "source": [
    "import os\n",
    "import xml.etree.ElementTree as ET"
   ]
  },
  {
   "cell_type": "code",
   "execution_count": 50,
   "id": "87ee7bea",
   "metadata": {},
   "outputs": [],
   "source": [
    "path_dir = r\"/Users/hyojun/Desktop/도로주행영상/Training/bb/도심로\"\n",
    "\n",
    "file_list = os.listdir(path_dir)\n",
    "#xml_list = []\n",
    "#for file in file_list:\n",
    "#    if '.xml' in file:\n",
    "#        xml_list.append(targetDir + '/' + file)"
   ]
  },
  {
   "cell_type": "code",
   "execution_count": 51,
   "id": "84aeb7e5",
   "metadata": {},
   "outputs": [
    {
     "data": {
      "text/plain": [
       "['야간일몰', '주간일출']"
      ]
     },
     "execution_count": 51,
     "metadata": {},
     "output_type": "execute_result"
    }
   ],
   "source": [
    "file_list"
   ]
  },
  {
   "cell_type": "code",
   "execution_count": 54,
   "id": "fafed063",
   "metadata": {},
   "outputs": [
    {
     "name": "stdout",
     "output_type": "stream",
     "text": [
      "71030\n"
     ]
    }
   ],
   "source": [
    "xml_list = []\n",
    "for i in file_list: #['야간일몰', '주간일출']\n",
    "    path_dir_2 = path_dir + '/' + i \n",
    "    file_list_2 = os.listdir(path_dir_2) \n",
    "    #print(path_dir_2)\n",
    "    #print(file_list_2)\n",
    "    #print(\"=\"*20)\n",
    "    \n",
    "    for j in file_list_2: #['맑음', '강우']\n",
    "        path_dir_3 = path_dir_2 + '/' + j \n",
    "        file_list_3 = os.listdir(path_dir_3) \n",
    "        #print(path_dir_3)\n",
    "        #print(file_list_3)\n",
    "        #print(\"=\"*20)\n",
    "        \n",
    "        for l in file_list_3: #['30,60,120, .. ', '전방, 후방, ....']\n",
    "            path_dir_4 = path_dir_3 + '/' + l \n",
    "            file_list_4 = os.listdir(path_dir_4) \n",
    "            #print(path_dir_4)\n",
    "            #print(file_list_4)\n",
    "            #print(\"=\"*20)\n",
    "            \n",
    "            for m in file_list_4: \n",
    "                path_dir_5 = path_dir_4 + '/' + m \n",
    "                file_list_5 = os.listdir(path_dir_5) \n",
    "                #print(path_dir_5)\n",
    "                #print(file_list_5)\n",
    "                #print(\"=\"*20)\n",
    "                \n",
    "                for n in file_list_5: \n",
    "                    path_dir_6 = path_dir_5 + '/' + n \n",
    "                    file_list_6 = os.listdir(path_dir_6) \n",
    "                    #print(path_dir_6)\n",
    "                    #print(file_list_6)\n",
    "                    #print(\"=\"*20)\n",
    "                    \n",
    "                    \n",
    "                    for file in file_list_6:\n",
    "                        if '.xml' in file:\n",
    "                            xml_list.append(path_dir_6 + '/' + file)\n",
    "                    \n",
    "                    \n",
    "                    \n",
    "print(len(xml_list))                   "
   ]
  }
 ],
 "metadata": {
  "kernelspec": {
   "display_name": "Python 3 (ipykernel)",
   "language": "python",
   "name": "python3"
  },
  "language_info": {
   "codemirror_mode": {
    "name": "ipython",
    "version": 3
   },
   "file_extension": ".py",
   "mimetype": "text/x-python",
   "name": "python",
   "nbconvert_exporter": "python",
   "pygments_lexer": "ipython3",
   "version": "3.7.7"
  }
 },
 "nbformat": 4,
 "nbformat_minor": 5
}
